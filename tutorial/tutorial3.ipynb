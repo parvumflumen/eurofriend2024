{
 "cells": [
  {
   "cell_type": "markdown",
   "id": "b328c8d5",
   "metadata": {},
   "source": [
    "# Tutorial 2: Example Project Lahn"
   ]
  },
  {
   "cell_type": "code",
   "execution_count": 2,
   "id": "586a2fa1",
   "metadata": {},
   "outputs": [],
   "source": [
    "import os\n",
    "import hydpy"
   ]
  },
  {
   "cell_type": "markdown",
   "id": "fdbfb4f6",
   "metadata": {},
   "source": [
    "In this mybinder repository the example project Lahn is included, which you can also download from https://hydpy-dev.github.io/.\n",
    "If you reproduce these steps at your local machine, you should download the example project and unzip it to your desired working directory. The Folder 'HydPy-H-Lahn' should be inside your working directory.\n",
    "\n",
    "The entry point to each project is the central HydPy class. Initialise it by passing the project’s name to it (the name of the project folder:"
   ]
  },
  {
   "cell_type": "code",
   "execution_count": 3,
   "id": "ca411989",
   "metadata": {},
   "outputs": [],
   "source": [
    "hp = hydpy.HydPy(\"HydPy-H-Lahn\")"
   ]
  },
  {
   "cell_type": "markdown",
   "id": "6cbe95d0",
   "metadata": {},
   "source": [
    "Equally prominent throughout this documentation is the pub module, which allows for the specification of general information. Here, we use it to define the first date, the last date, and the time step size of the considered simulation period in the simplest possible manner:"
   ]
  },
  {
   "cell_type": "code",
   "execution_count": 4,
   "id": "8c1b4e26",
   "metadata": {},
   "outputs": [],
   "source": [
    "hydpy.pub.timegrids = \"1996-01-01\", \"1996-01-05\", \"1d\"\n",
    "\n"
   ]
  },
  {
   "cell_type": "markdown",
   "id": "3b43d1ae",
   "metadata": {},
   "source": [
    "Now, there are numerous ways to proceed. We choose the most straightforward one (without deviating from a single default) and call method prepare_everything() of class HydPy, which “prepares everything” so far as to leave the HydPy instance in a simulation-ready state:"
   ]
  },
  {
   "cell_type": "code",
   "execution_count": 5,
   "id": "ef1a7409",
   "metadata": {},
   "outputs": [
    {
     "name": "stdout",
     "output_type": "stream",
     "text": [
      "method HydPy.prepare_network started at 22:54:39\n",
      "    seconds elapsed: 0.011081100441515446\n",
      "method Elements.prepare_models started at 22:54:39\n",
      "    |-----|\n",
      "    *******\n",
      "    seconds elapsed: 0.2719789994880557\n",
      "method Elements.load_conditions started at 22:54:39\n",
      "    |-----|\n",
      "    *******\n",
      "    seconds elapsed: 0.019473000429570675\n",
      "method Nodes.prepare_allseries started at 22:54:39\n",
      "    |--|\n",
      "    ****\n",
      "    seconds elapsed: 0.0026502003893256187\n",
      "method Elements.prepare_allseries started at 22:54:39\n",
      "    |-----|\n",
      "    *******\n",
      "    seconds elapsed: 0.009817300364375114\n",
      "method Elements.load_inputseries started at 22:54:39\n",
      "    |-----|\n",
      "    *******\n",
      "    seconds elapsed: 0.09449579939246178\n"
     ]
    }
   ],
   "source": [
    "hp.prepare_everything()"
   ]
  },
  {
   "cell_type": "code",
   "execution_count": 6,
   "id": "f6dbc921",
   "metadata": {},
   "outputs": [
    {
     "data": {
      "text/plain": [
       "Nodes(\"dill_assl\", \"lahn_kalk\", \"lahn_leun\", \"lahn_marb\")"
      ]
     },
     "execution_count": 6,
     "metadata": {},
     "output_type": "execute_result"
    }
   ],
   "source": [
    "hp.nodes"
   ]
  },
  {
   "cell_type": "markdown",
   "id": "68820eff",
   "metadata": {},
   "source": [
    "The catchment outlet of the HydPy-H-Lahn example project is named lahn_kalk. The following example demonstrates how to query the discharge values simulated for this outlet:"
   ]
  },
  {
   "cell_type": "code",
   "execution_count": 7,
   "id": "121c14d5",
   "metadata": {},
   "outputs": [
    {
     "name": "stdout",
     "output_type": "stream",
     "text": [
      "nan, nan, nan, nan\n",
      "method HydPy.simulate started at 22:56:17\n",
      "    |--|\n",
      "    ****\n",
      "    seconds elapsed: 0.005394900217652321\n",
      "54.01807423365969, 37.25573158134009, 31.86398265126502,\n",
      "28.35894864973298\n"
     ]
    }
   ],
   "source": [
    "from hydpy import print_vector\n",
    "print_vector(hp.nodes.lahn_kalk.sequences.sim.series)\n",
    "hp.simulate()\n",
    "print_vector(hp.nodes.lahn_kalk.sequences.sim.series)"
   ]
  },
  {
   "cell_type": "code",
   "execution_count": 9,
   "id": "3c32439f",
   "metadata": {},
   "outputs": [
    {
     "data": {
      "text/plain": [
       "<module 'pub'>"
      ]
     },
     "execution_count": 9,
     "metadata": {},
     "output_type": "execute_result"
    }
   ],
   "source": [
    "hydpy.pub"
   ]
  },
  {
   "cell_type": "code",
   "execution_count": 10,
   "id": "f2ab7cb5",
   "metadata": {},
   "outputs": [
    {
     "data": {
      "text/plain": [
       "['__doc__',\n",
       " '__loader__',\n",
       " '__name__',\n",
       " '__package__',\n",
       " '__spec__',\n",
       " 'conditionmanager',\n",
       " 'config',\n",
       " 'controlmanager',\n",
       " 'indexer',\n",
       " 'networkmanager',\n",
       " 'options',\n",
       " 'projectname',\n",
       " 'scriptfunctions',\n",
       " 'selections',\n",
       " 'sequencemanager',\n",
       " 'timegrids']"
      ]
     },
     "execution_count": 10,
     "metadata": {},
     "output_type": "execute_result"
    }
   ],
   "source": [
    "dir(hydpy.pub)"
   ]
  },
  {
   "cell_type": "code",
   "execution_count": 11,
   "id": "9ff4ebcc",
   "metadata": {},
   "outputs": [
    {
     "data": {
      "text/plain": [
       "Selections(\"complete\", \"headwaters\", \"nonheadwaters\", \"streams\")"
      ]
     },
     "execution_count": 11,
     "metadata": {},
     "output_type": "execute_result"
    }
   ],
   "source": [
    "hydpy.pub.selections"
   ]
  },
  {
   "cell_type": "code",
   "execution_count": 12,
   "id": "92067f76",
   "metadata": {},
   "outputs": [
    {
     "data": {
      "text/plain": [
       "hydpy.core.pubtools.Pub"
      ]
     },
     "execution_count": 12,
     "metadata": {},
     "output_type": "execute_result"
    }
   ],
   "source": [
    "type(hydpy.pub)"
   ]
  },
  {
   "cell_type": "code",
   "execution_count": 13,
   "id": "bd89ed22",
   "metadata": {},
   "outputs": [
    {
     "data": {
      "text/plain": [
       "Timegrids(\"1996-01-01 00:00:00\",\n",
       "          \"1996-01-05 00:00:00\",\n",
       "          \"1d\")"
      ]
     },
     "execution_count": 13,
     "metadata": {},
     "output_type": "execute_result"
    }
   ],
   "source": [
    "hydpy.pub.timegrids"
   ]
  },
  {
   "cell_type": "code",
   "execution_count": null,
   "id": "e4abc0fc",
   "metadata": {},
   "outputs": [],
   "source": []
  }
 ],
 "metadata": {
  "kernelspec": {
   "display_name": "Python 3 (ipykernel)",
   "language": "python",
   "name": "python3"
  },
  "language_info": {
   "codemirror_mode": {
    "name": "ipython",
    "version": 3
   },
   "file_extension": ".py",
   "mimetype": "text/x-python",
   "name": "python",
   "nbconvert_exporter": "python",
   "pygments_lexer": "ipython3",
   "version": "3.11.8"
  }
 },
 "nbformat": 4,
 "nbformat_minor": 5
}
