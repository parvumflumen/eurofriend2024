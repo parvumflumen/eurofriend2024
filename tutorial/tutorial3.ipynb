{
 "cells": [
  {
   "cell_type": "markdown",
   "id": "b328c8d5",
   "metadata": {},
   "source": [
    "# Tutorial 3: Example Project Lahn"
   ]
  },
  {
   "cell_type": "code",
   "execution_count": 1,
   "id": "586a2fa1",
   "metadata": {},
   "outputs": [],
   "source": [
    "import os\n",
    "import hydpy\n",
    "from hydpy import print_vector"
   ]
  },
  {
   "cell_type": "markdown",
   "id": "fdbfb4f6",
   "metadata": {},
   "source": [
    "In this mybinder repository the example project Lahn is included, which you can also download from https://hydpy-dev.github.io/.\n",
    "If you reproduce these steps at your local machine, you should download the example project and unzip it to your desired working directory. The Folder 'HydPy-H-Lahn' should be inside your working directory.\n",
    "\n",
    "The entry point to each project is the central HydPy class. Initialise it by passing the project’s name to it (the name of the project folder):"
   ]
  },
  {
   "cell_type": "code",
   "execution_count": 2,
   "id": "ca411989",
   "metadata": {},
   "outputs": [],
   "source": [
    "hp = hydpy.HydPy(\"HydPy-H-Lahn\")"
   ]
  },
  {
   "cell_type": "markdown",
   "id": "6cbe95d0",
   "metadata": {},
   "source": [
    "Equally prominent throughout this documentation is the pub module, which allows for the specification of general information. Here, we use it to define the first date, the last date, and the time step size of the considered simulation period in the simplest possible manner:"
   ]
  },
  {
   "cell_type": "code",
   "execution_count": 3,
   "id": "8c1b4e26",
   "metadata": {},
   "outputs": [],
   "source": [
    "hydpy.pub.timegrids = \"1996-01-01\", \"1996-01-05\", \"1d\"\n",
    "\n"
   ]
  },
  {
   "cell_type": "markdown",
   "id": "3b43d1ae",
   "metadata": {},
   "source": [
    "Now, there are numerous ways to proceed. We choose the most straightforward one (without deviating from a single default) and call method prepare_everything() of class HydPy, which “prepares everything” so far as to leave the HydPy instance in a simulation-ready state:"
   ]
  },
  {
   "cell_type": "code",
   "execution_count": 4,
   "id": "ef1a7409",
   "metadata": {},
   "outputs": [
    {
     "name": "stdout",
     "output_type": "stream",
     "text": [
      "method HydPy.prepare_network started at 13:36:39\n",
      "    seconds elapsed: 0.009497100487351418\n",
      "method Elements.prepare_models started at 13:36:39\n",
      "    |-----|\n",
      "    *******\n",
      "    seconds elapsed: 0.15168510004878044\n",
      "method Elements.load_conditions started at 13:36:39\n",
      "    |-----|\n",
      "    *******\n",
      "    seconds elapsed: 0.01649310067296028\n",
      "method Nodes.prepare_allseries started at 13:36:39\n",
      "    |--|\n",
      "    ****\n",
      "    seconds elapsed: 0.002148900181055069\n",
      "method Elements.prepare_allseries started at 13:36:39\n",
      "    |-----|\n",
      "    *******\n",
      "    seconds elapsed: 0.010342699475586414\n",
      "method Elements.load_inputseries started at 13:36:39\n",
      "    |-----|\n",
      "    *******\n",
      "    seconds elapsed: 0.06139279995113611\n"
     ]
    }
   ],
   "source": [
    "hp.prepare_everything()"
   ]
  },
  {
   "cell_type": "code",
   "execution_count": 5,
   "id": "e90c7397",
   "metadata": {},
   "outputs": [],
   "source": [
    "init_conditions = hp.conditions"
   ]
  },
  {
   "cell_type": "code",
   "execution_count": 6,
   "id": "bf0224dc",
   "metadata": {},
   "outputs": [
    {
     "data": {
      "text/plain": [
       "Nodes(\"dill_assl\", \"lahn_kalk\", \"lahn_leun\", \"lahn_marb\")"
      ]
     },
     "execution_count": 6,
     "metadata": {},
     "output_type": "execute_result"
    }
   ],
   "source": [
    "hp.nodes"
   ]
  },
  {
   "cell_type": "markdown",
   "id": "68820eff",
   "metadata": {},
   "source": [
    "The catchment outlet of the HydPy-H-Lahn example project is named lahn_kalk. The following example demonstrates how to query the discharge values simulated for this outlet:"
   ]
  },
  {
   "cell_type": "code",
   "execution_count": 7,
   "id": "121c14d5",
   "metadata": {},
   "outputs": [
    {
     "name": "stdout",
     "output_type": "stream",
     "text": [
      "nan, nan, nan, nan\n",
      "method HydPy.simulate started at 13:36:40\n",
      "    |--|\n",
      "    ****\n",
      "    seconds elapsed: 0.004427699372172356\n",
      "54.01807423365969, 37.25573158134009, 31.86398265126502,\n",
      "28.35894864973298\n"
     ]
    }
   ],
   "source": [
    "print_vector(hp.nodes.lahn_kalk.sequences.sim.series)\n",
    "hp.simulate()\n",
    "print_vector(hp.nodes.lahn_kalk.sequences.sim.series)"
   ]
  },
  {
   "cell_type": "markdown",
   "id": "b2f22bf3",
   "metadata": {},
   "source": [
    "Let's have a look to this mysterious object 'hydpy.pub'. We reveal all its attributes and methods with 'dir', but exclude all the private ones (that is, starting with '_')"
   ]
  },
  {
   "cell_type": "code",
   "execution_count": 8,
   "id": "55ff1603",
   "metadata": {},
   "outputs": [
    {
     "data": {
      "text/plain": [
       "['conditionmanager',\n",
       " 'config',\n",
       " 'controlmanager',\n",
       " 'indexer',\n",
       " 'networkmanager',\n",
       " 'options',\n",
       " 'projectname',\n",
       " 'scriptfunctions',\n",
       " 'selections',\n",
       " 'sequencemanager',\n",
       " 'timegrids']"
      ]
     },
     "execution_count": 8,
     "metadata": {},
     "output_type": "execute_result"
    }
   ],
   "source": [
    "[attr for attr in dir(hydpy.pub) if not attr.startswith('_')]"
   ]
  },
  {
   "cell_type": "markdown",
   "id": "f2b9a26f",
   "metadata": {},
   "source": [
    "We can see four 'manager'-attributes: conditionmanager, controlmanager, networkmanager and sequencemanager. In the previous tutorial, we used the networkmanager to read the network files of the project. So each of the four groups that structure the project has a public manager object. Lets dig deeper into one of them and reveal the attributes of the networkmanager:"
   ]
  },
  {
   "cell_type": "code",
   "execution_count": 9,
   "id": "80603b38",
   "metadata": {},
   "outputs": [
    {
     "data": {
      "text/plain": [
       "['BASEDIR',\n",
       " 'DEFAULTDIR',\n",
       " 'availabledirs',\n",
       " 'basepath',\n",
       " 'currentdir',\n",
       " 'currentpath',\n",
       " 'delete_files',\n",
       " 'filenames',\n",
       " 'filepaths',\n",
       " 'load_files',\n",
       " 'projectdir',\n",
       " 'save_files',\n",
       " 'zip_currentdir']"
      ]
     },
     "execution_count": 9,
     "metadata": {},
     "output_type": "execute_result"
    }
   ],
   "source": [
    "[attr for attr in dir(hydpy.pub.networkmanager) if not attr.startswith('_')]"
   ]
  },
  {
   "cell_type": "markdown",
   "id": "f218b6a1",
   "metadata": {},
   "source": [
    "So here are the paths to the data stored and also the methods to read and write them. The method 'hp.prepare_everything()' we used before obviously uses these manager functions in the background."
   ]
  },
  {
   "cell_type": "code",
   "execution_count": 10,
   "id": "d90f4112",
   "metadata": {},
   "outputs": [
    {
     "data": {
      "text/plain": [
       "'C:\\\\projects\\\\eurofriend2024\\\\tutorial\\\\HydPy-H-Lahn\\\\network\\\\default'"
      ]
     },
     "execution_count": 10,
     "metadata": {},
     "output_type": "execute_result"
    }
   ],
   "source": [
    "hydpy.pub.networkmanager.currentpath"
   ]
  },
  {
   "cell_type": "markdown",
   "id": "8f808304",
   "metadata": {},
   "source": [
    "Our example project has three network files. These files are turned into selection objects that can be found at hydpy.pub.selections (there is also the selection 'complete' including all nodes and elements):"
   ]
  },
  {
   "cell_type": "code",
   "execution_count": 11,
   "id": "d716f7c2",
   "metadata": {},
   "outputs": [
    {
     "data": {
      "text/plain": [
       "Selections(\"complete\", \"headwaters\", \"nonheadwaters\", \"streams\")"
      ]
     },
     "execution_count": 11,
     "metadata": {},
     "output_type": "execute_result"
    }
   ],
   "source": [
    "hydpy.pub.selections"
   ]
  },
  {
   "cell_type": "code",
   "execution_count": 12,
   "id": "6bfa40a4",
   "metadata": {
    "scrolled": true
   },
   "outputs": [
    {
     "data": {
      "text/plain": [
       "Selection(\"complete\",\n",
       "          nodes=(\"dill_assl\", \"lahn_kalk\", \"lahn_leun\", \"lahn_marb\"),\n",
       "          elements=(\"land_dill_assl\", \"land_lahn_kalk\",\n",
       "                    ...,\"stream_lahn_leun_lahn_kalk\",\n",
       "                    \"stream_lahn_marb_lahn_leun\"))"
      ]
     },
     "execution_count": 12,
     "metadata": {},
     "output_type": "execute_result"
    }
   ],
   "source": [
    "hydpy.pub.selections.complete"
   ]
  },
  {
   "cell_type": "code",
   "execution_count": 13,
   "id": "87de0a72",
   "metadata": {},
   "outputs": [],
   "source": [
    "sel = hydpy.pub.selections.complete.copy(\"test\")"
   ]
  },
  {
   "cell_type": "code",
   "execution_count": 14,
   "id": "e3c9ecd2",
   "metadata": {},
   "outputs": [
    {
     "data": {
      "text/plain": [
       "Selection(\"upstream\",\n",
       "          nodes=(\"lahn_leun\", \"lahn_marb\"),\n",
       "          elements=(\"land_lahn_marb\", \"stream_lahn_marb_lahn_leun\"))"
      ]
     },
     "execution_count": 14,
     "metadata": {},
     "output_type": "execute_result"
    }
   ],
   "source": [
    "sel.search_upstream(hp.elements.stream_lahn_marb_lahn_leun)"
   ]
  },
  {
   "cell_type": "code",
   "execution_count": 15,
   "id": "c65f9211",
   "metadata": {
    "scrolled": true
   },
   "outputs": [
    {
     "data": {
      "text/plain": [
       "Selection(\"test\",\n",
       "          nodes=(\"dill_assl\", \"lahn_kalk\", \"lahn_leun\", \"lahn_marb\"),\n",
       "          elements=(\"land_dill_assl\", \"land_lahn_kalk\",\n",
       "                    ...,\"stream_lahn_leun_lahn_kalk\",\n",
       "                    \"stream_lahn_marb_lahn_leun\"))"
      ]
     },
     "execution_count": 15,
     "metadata": {},
     "output_type": "execute_result"
    }
   ],
   "source": [
    "sel"
   ]
  },
  {
   "cell_type": "code",
   "execution_count": 16,
   "id": "aa4a1074",
   "metadata": {},
   "outputs": [
    {
     "data": {
      "text/plain": [
       "Selection(\"test\",\n",
       "          nodes=(\"lahn_leun\", \"lahn_marb\"),\n",
       "          elements=(\"land_lahn_marb\", \"stream_lahn_marb_lahn_leun\"))"
      ]
     },
     "execution_count": 16,
     "metadata": {},
     "output_type": "execute_result"
    }
   ],
   "source": [
    "sel.select_upstream(hp.elements.stream_lahn_marb_lahn_leun)"
   ]
  },
  {
   "cell_type": "code",
   "execution_count": 17,
   "id": "0f3750ac",
   "metadata": {},
   "outputs": [
    {
     "data": {
      "text/plain": [
       "Selection(\"complete\",\n",
       "          nodes=(\"dill_assl\", \"lahn_kalk\", \"lahn_leun\", \"lahn_marb\"),\n",
       "          elements=(\"land_dill_assl\", \"land_lahn_kalk\",\n",
       "                    ...,\"stream_lahn_leun_lahn_kalk\",\n",
       "                    \"stream_lahn_marb_lahn_leun\"))"
      ]
     },
     "execution_count": 17,
     "metadata": {},
     "output_type": "execute_result"
    }
   ],
   "source": [
    "hydpy.pub.selections.complete"
   ]
  },
  {
   "cell_type": "code",
   "execution_count": 18,
   "id": "32130d12",
   "metadata": {},
   "outputs": [
    {
     "data": {
      "text/plain": [
       "hydpy.core.pubtools.Pub"
      ]
     },
     "execution_count": 18,
     "metadata": {},
     "output_type": "execute_result"
    }
   ],
   "source": [
    "type(hydpy.pub)"
   ]
  },
  {
   "cell_type": "code",
   "execution_count": 19,
   "id": "c63746ba",
   "metadata": {},
   "outputs": [
    {
     "data": {
      "text/plain": [
       "Timegrids(\"1996-01-01 00:00:00\",\n",
       "          \"1996-01-05 00:00:00\",\n",
       "          \"1d\")"
      ]
     },
     "execution_count": 19,
     "metadata": {},
     "output_type": "execute_result"
    }
   ],
   "source": [
    "hydpy.pub.timegrids"
   ]
  },
  {
   "cell_type": "code",
   "execution_count": 20,
   "id": "61c893f7",
   "metadata": {},
   "outputs": [],
   "source": [
    "hydpy.pub.timegrids = \"1990-01-01\", \"2000-12-31\", \"1d\""
   ]
  },
  {
   "cell_type": "code",
   "execution_count": 21,
   "id": "8e72c52b",
   "metadata": {},
   "outputs": [
    {
     "name": "stdout",
     "output_type": "stream",
     "text": [
      "method HydPy.prepare_network started at 13:36:51\n",
      "    seconds elapsed: 0.0064024003222584724\n",
      "method Elements.prepare_models started at 13:36:51\n",
      "    |-----|\n",
      "    *******\n",
      "    seconds elapsed: 0.05817500036209822\n",
      "method Elements.load_conditions started at 13:36:51\n",
      "    |-----|\n",
      "    *******\n",
      "    seconds elapsed: 0.0165968993678689\n",
      "method Nodes.prepare_allseries started at 13:36:51\n",
      "    |--|\n",
      "    ****\n",
      "    seconds elapsed: 0.002821299247443676\n",
      "method Elements.prepare_allseries started at 13:36:51\n",
      "    |-----|\n",
      "    *******\n",
      "    seconds elapsed: 0.03780500032007694\n",
      "method Elements.load_inputseries started at 13:36:51\n",
      "    |-----|\n",
      "    *******\n",
      "    seconds elapsed: 0.06021120026707649\n"
     ]
    }
   ],
   "source": [
    "hp.prepare_everything()"
   ]
  },
  {
   "cell_type": "code",
   "execution_count": 22,
   "id": "add7594f",
   "metadata": {},
   "outputs": [
    {
     "name": "stdout",
     "output_type": "stream",
     "text": [
      "method HydPy.simulate started at 13:37:24\n",
      "    |---------------------|\n",
      "    ***********************\n",
      "    seconds elapsed: 0.8351116999983788\n"
     ]
    }
   ],
   "source": [
    "hp.simulate()"
   ]
  },
  {
   "cell_type": "code",
   "execution_count": 39,
   "id": "18d93c3e",
   "metadata": {},
   "outputs": [
    {
     "data": {
      "image/png": "[encoded data removed]",
      "text/plain": [
       "<Figure size 640x480 with 1 Axes>"
      ]
     },
     "metadata": {},
     "output_type": "display_data"
    }
   ],
   "source": [
    "_ = hp.elements.land_lahn_kalk.plot_fluxseries(\"qt\")"
   ]
  },
  {
   "cell_type": "code",
   "execution_count": null,
   "id": "ba1bf643",
   "metadata": {},
   "outputs": [],
   "source": []
  }
 ],
 "metadata": {
  "kernelspec": {
   "display_name": "Python 3 (ipykernel)",
   "language": "python",
   "name": "python3"
  },
  "language_info": {
   "codemirror_mode": {
    "name": "ipython",
    "version": 3
   },
   "file_extension": ".py",
   "mimetype": "text/x-python",
   "name": "python",
   "nbconvert_exporter": "python",
   "pygments_lexer": "ipython3",
   "version": "3.11.8"
  }
 },
 "nbformat": 4,
 "nbformat_minor": 5
}
