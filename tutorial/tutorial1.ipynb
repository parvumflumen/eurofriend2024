{
 "cells": [
  {
   "cell_type": "code",
   "execution_count": 1,
   "id": "a5bf6548",
   "metadata": {},
   "outputs": [],
   "source": [
    "from hydpy import HydPy\n",
    "hp = HydPy(\"Example1\")"
   ]
  },
  {
   "cell_type": "markdown",
   "id": "ee4de832-c2b5-435d-a4ad-c1d9b66efd3e",
   "metadata": {},
   "source": [
    "# Tutorial 1\n",
    "\n",
    "## Step 1: Define Elements"
   ]
  },
  {
   "cell_type": "markdown",
   "id": "b482c16d",
   "metadata": {},
   "source": [
    "We define an element with the unique id 'element1' and an outlet 'outl1'"
   ]
  },
  {
   "cell_type": "code",
   "execution_count": 2,
   "id": "1cb28aba-61d5-43bc-9042-3537bda7c98b",
   "metadata": {},
   "outputs": [
    {
     "data": {
      "text/plain": [
       "Element(\"element1\",\n",
       "        outlets=\"outl1\")"
      ]
     },
     "execution_count": 2,
     "metadata": {},
     "output_type": "execute_result"
    }
   ],
   "source": [
    "from hydpy import Node, Element\n",
    "n1 = Node(\"outl1\")\n",
    "e1 = Element(\"element1\",\n",
    "        outlets=n1)\n",
    "e1"
   ]
  },
  {
   "cell_type": "code",
   "execution_count": 3,
   "id": "eeb177ac",
   "metadata": {
    "scrolled": true
   },
   "outputs": [
    {
     "data": {
      "text/plain": [
       "Elements(\"element1\")"
      ]
     },
     "execution_count": 3,
     "metadata": {},
     "output_type": "execute_result"
    }
   ],
   "source": [
    "hp.elements = e1\n",
    "hp.elements"
   ]
  },
  {
   "cell_type": "code",
   "execution_count": 4,
   "id": "b84df38d",
   "metadata": {},
   "outputs": [
    {
     "data": {
      "text/plain": [
       "Nodes(\"outl1\")"
      ]
     },
     "execution_count": 4,
     "metadata": {},
     "output_type": "execute_result"
    }
   ],
   "source": [
    "hp.nodes = n1\n",
    "hp.nodes"
   ]
  },
  {
   "cell_type": "markdown",
   "id": "cf6a92ad-fbea-4728-9b5f-e41f4b0791c9",
   "metadata": {},
   "source": [
    "Now we can already access the different properties of the element:"
   ]
  },
  {
   "cell_type": "code",
   "execution_count": 5,
   "id": "c3e4c7e9-3a90-4d56-8cf0-c3ec882b8d45",
   "metadata": {},
   "outputs": [
    {
     "data": {
      "text/plain": [
       "'element1'"
      ]
     },
     "execution_count": 5,
     "metadata": {},
     "output_type": "execute_result"
    }
   ],
   "source": [
    "e1.name"
   ]
  },
  {
   "cell_type": "code",
   "execution_count": 6,
   "id": "44807ed1-48ab-4304-afb1-d8a241268930",
   "metadata": {},
   "outputs": [
    {
     "data": {
      "text/plain": [
       "Nodes(\"outl1\")"
      ]
     },
     "execution_count": 6,
     "metadata": {},
     "output_type": "execute_result"
    }
   ],
   "source": [
    "e1.outlets"
   ]
  },
  {
   "cell_type": "markdown",
   "id": "bfa020dc-cd33-4b83-8986-dc92d5b2ca2f",
   "metadata": {},
   "source": [
    "The object e1 (of type Element) has more attributes:"
   ]
  },
  {
   "cell_type": "code",
   "execution_count": 7,
   "id": "7c914925-0347-40d3-a333-bbe0d18e2a1a",
   "metadata": {},
   "outputs": [
    {
     "data": {
      "text/plain": [
       "['_Device__check_name',\n",
       " '_Element__connections',\n",
       " '_Element__update_group',\n",
       " '__annotations__',\n",
       " '__class__',\n",
       " '__delattr__',\n",
       " '__dict__',\n",
       " '__dir__',\n",
       " '__doc__',\n",
       " '__eq__',\n",
       " '__format__',\n",
       " '__ge__',\n",
       " '__getattribute__',\n",
       " '__getstate__',\n",
       " '__gt__',\n",
       " '__hash__',\n",
       " '__init__',\n",
       " '__init_subclass__',\n",
       " '__le__',\n",
       " '__lt__',\n",
       " '__module__',\n",
       " '__ne__',\n",
       " '__new__',\n",
       " '__reduce__',\n",
       " '__reduce_ex__',\n",
       " '__repr__',\n",
       " '__setattr__',\n",
       " '__sizeof__',\n",
       " '__str__',\n",
       " '__subclasshook__',\n",
       " '__weakref__',\n",
       " '_del_keywords',\n",
       " '_get_inlets',\n",
       " '_get_inputs',\n",
       " '_get_keywords',\n",
       " '_get_outlets',\n",
       " '_get_outputs',\n",
       " '_get_receivers',\n",
       " '_get_senders',\n",
       " '_inlets',\n",
       " '_inputs',\n",
       " '_keywords',\n",
       " '_model',\n",
       " '_name',\n",
       " '_outlets',\n",
       " '_outputs',\n",
       " '_plot_series',\n",
       " '_query_iosequences',\n",
       " '_receivers',\n",
       " '_senders',\n",
       " '_set_inlets',\n",
       " '_set_inputs',\n",
       " '_set_keywords',\n",
       " '_set_outlets',\n",
       " '_set_outputs',\n",
       " '_set_receivers',\n",
       " '_set_senders',\n",
       " 'assignrepr',\n",
       " 'clear_all',\n",
       " 'collective',\n",
       " 'extract_new',\n",
       " 'get_handlerclass',\n",
       " 'init_model',\n",
       " 'inlets',\n",
       " 'inputs',\n",
       " 'keywords',\n",
       " 'load_allseries',\n",
       " 'load_factorseries',\n",
       " 'load_fluxseries',\n",
       " 'load_inputseries',\n",
       " 'load_stateseries',\n",
       " 'model',\n",
       " 'name',\n",
       " 'outlets',\n",
       " 'outputs',\n",
       " 'plot_factorseries',\n",
       " 'plot_fluxseries',\n",
       " 'plot_inputseries',\n",
       " 'plot_stateseries',\n",
       " 'prepare_allseries',\n",
       " 'prepare_factorseries',\n",
       " 'prepare_fluxseries',\n",
       " 'prepare_inputseries',\n",
       " 'prepare_model',\n",
       " 'prepare_stateseries',\n",
       " 'query_all',\n",
       " 'receivers',\n",
       " 'save_allseries',\n",
       " 'save_factorseries',\n",
       " 'save_fluxseries',\n",
       " 'save_inputseries',\n",
       " 'save_stateseries',\n",
       " 'senders',\n",
       " 'variables']"
      ]
     },
     "execution_count": 7,
     "metadata": {},
     "output_type": "execute_result"
    }
   ],
   "source": [
    "dir(e1)"
   ]
  },
  {
   "cell_type": "markdown",
   "id": "7e46eefc-de4c-4650-848e-e7e6090348f0",
   "metadata": {},
   "source": [
    "We can try to access the model attribute (this is the model that is connected to the element):"
   ]
  },
  {
   "cell_type": "code",
   "execution_count": 8,
   "id": "f1ec562f-839f-4ee4-a396-ba9f4cc64222",
   "metadata": {},
   "outputs": [
    {
     "ename": "AttributeNotReady",
     "evalue": "The model object of element `element1` has been requested but not been prepared so far.",
     "output_type": "error",
     "traceback": [
      "\u001b[1;31m---------------------------------------------------------------------------\u001b[0m",
      "\u001b[1;31mAttributeNotReady\u001b[0m                         Traceback (most recent call last)",
      "\u001b[1;32m~\\AppData\\Local\\Temp\\ipykernel_10184\\1521185401.py\u001b[0m in \u001b[0;36m<cell line: 0>\u001b[1;34m()\u001b[0m\n\u001b[1;32m----> 1\u001b[1;33m \u001b[0me1\u001b[0m\u001b[1;33m.\u001b[0m\u001b[0mmodel\u001b[0m\u001b[1;33m\u001b[0m\u001b[1;33m\u001b[0m\u001b[0m\n\u001b[0m",
      "\u001b[1;32mC:\\venvs\\arcpy_3_3\\Lib\\site-packages\\hydpy\\core\\devicetools.py\u001b[0m in \u001b[0;36mmodel\u001b[1;34m(self)\u001b[0m\n\u001b[0;32m   3142\u001b[0m         \u001b[1;32mif\u001b[0m \u001b[0mmodel\u001b[0m\u001b[1;33m:\u001b[0m\u001b[1;33m\u001b[0m\u001b[1;33m\u001b[0m\u001b[0m\n\u001b[0;32m   3143\u001b[0m             \u001b[1;32mreturn\u001b[0m \u001b[0mmodel\u001b[0m\u001b[1;33m\u001b[0m\u001b[1;33m\u001b[0m\u001b[0m\n\u001b[1;32m-> 3144\u001b[1;33m         raise exceptiontools.AttributeNotReady(\n\u001b[0m\u001b[0;32m   3145\u001b[0m             \u001b[1;34mf\"The model object of element `{self.name}` has been requested but not \"\u001b[0m\u001b[1;33m\u001b[0m\u001b[1;33m\u001b[0m\u001b[0m\n\u001b[0;32m   3146\u001b[0m             \u001b[1;34mf\"been prepared so far.\"\u001b[0m\u001b[1;33m\u001b[0m\u001b[1;33m\u001b[0m\u001b[0m\n",
      "\u001b[1;31mAttributeNotReady\u001b[0m: The model object of element `element1` has been requested but not been prepared so far."
     ]
    }
   ],
   "source": [
    "e1.model"
   ]
  },
  {
   "cell_type": "markdown",
   "id": "b6d39d44-29f4-4f4d-8ed9-4debd06ea860",
   "metadata": {},
   "source": [
    "For people who don't program very often, error messages can sometimes cause panic attacks. However, error messages usually provide a good indication of what to do next. Here we can read: 'The model object of element `element1` has been requested but not been prepared so far.' This is right, we haven't assigned a model yet."
   ]
  },
  {
   "cell_type": "markdown",
   "id": "ba54d55f",
   "metadata": {},
   "source": [
    "## Step 2: Assign a model to an element"
   ]
  },
  {
   "cell_type": "code",
   "execution_count": 9,
   "id": "72a21fa3",
   "metadata": {},
   "outputs": [],
   "source": [
    "from hydpy import pub\n",
    "pub.timegrids = \"01.01.2000\", \"05.01.2000\", \"1h\""
   ]
  },
  {
   "cell_type": "markdown",
   "id": "67b5b0ff",
   "metadata": {},
   "source": [
    "If working interactively in the python shell, a convenient way to assign a model to an element is to do a wildcard import from the model module and to call the method parameterstep directly after (in this case with a parameter time step of one day)."
   ]
  },
  {
   "cell_type": "code",
   "execution_count": 10,
   "id": "0f5091bc",
   "metadata": {},
   "outputs": [],
   "source": [
    "from hydpy.models.hland_96 import *\n",
    "parameterstep(\"1d\")"
   ]
  },
  {
   "cell_type": "markdown",
   "id": "f956f3b9",
   "metadata": {},
   "source": [
    "The method 'parameterstep' does some \"magic\" that might be a little bit confusing, that's why it is important to know what is happening here: it will create some useful objects in the namespace.\n",
    "\n",
    "it will create an instance of the respective model class (variable 'model')"
   ]
  },
  {
   "cell_type": "code",
   "execution_count": 11,
   "id": "2bbfff47",
   "metadata": {},
   "outputs": [
    {
     "data": {
      "text/plain": [
       "<hydpy.models.hland_96.Model at 0x1672943d4d0>"
      ]
     },
     "execution_count": 11,
     "metadata": {},
     "output_type": "execute_result"
    }
   ],
   "source": [
    "model"
   ]
  },
  {
   "cell_type": "code",
   "execution_count": 12,
   "id": "09bced5c",
   "metadata": {},
   "outputs": [
    {
     "data": {
      "text/plain": [
       "'hland_96'"
      ]
     },
     "execution_count": 12,
     "metadata": {},
     "output_type": "execute_result"
    }
   ],
   "source": [
    "model.name"
   ]
  },
  {
   "cell_type": "code",
   "execution_count": 13,
   "id": "f50b42cd",
   "metadata": {},
   "outputs": [
    {
     "data": {
      "text/plain": [
       "'hland_96'"
      ]
     },
     "execution_count": 13,
     "metadata": {},
     "output_type": "execute_result"
    }
   ],
   "source": [
    "from hydpy import Node, Element\n",
    "e1 = Element(\"element1\",\n",
    "        outlets=Node(\"outl1\"))\n",
    "e1.model = model\n",
    "e1.model.name"
   ]
  },
  {
   "cell_type": "markdown",
   "id": "8a96017f",
   "metadata": {},
   "source": [
    "## Step 3: Set model parameters"
   ]
  },
  {
   "cell_type": "code",
   "execution_count": null,
   "id": "90b77a14",
   "metadata": {},
   "outputs": [],
   "source": []
  },
  {
   "cell_type": "code",
   "execution_count": 14,
   "id": "c1d0945b",
   "metadata": {},
   "outputs": [
    {
     "data": {
      "text/plain": [
       "area(?)\n",
       "nmbzones(?)\n",
       "sclass(?)\n",
       "zonetype(?)\n",
       "zonearea(?)\n",
       "psi(?)\n",
       "zonez(?)\n",
       "pcorr(?)\n",
       "pcalt(?)\n",
       "rfcf(?)\n",
       "sfcf(?)\n",
       "tcorr(?)\n",
       "tcalt(?)\n",
       "icmax(?)\n",
       "sfdist(?)\n",
       "smax(?)\n",
       "sred(?)\n",
       "tt(?)\n",
       "ttint(?)\n",
       "dttm(?)\n",
       "cfmax(?)\n",
       "cfvar(?)\n",
       "gmelt(?)\n",
       "gvar(?)\n",
       "cfr(?)\n",
       "whc(?)\n",
       "fc(?)\n",
       "beta(?)\n",
       "percmax(?)\n",
       "cflux(?)\n",
       "resparea(?)\n",
       "recstep(?)\n",
       "alpha(?)\n",
       "k(?)\n",
       "k4(?)\n",
       "gamma(?)"
      ]
     },
     "execution_count": 14,
     "metadata": {},
     "output_type": "execute_result"
    }
   ],
   "source": [
    "e1.model.parameters.control"
   ]
  },
  {
   "cell_type": "code",
   "execution_count": 15,
   "id": "cb8bad69",
   "metadata": {},
   "outputs": [],
   "source": [
    "nmbzones(1)\n",
    "sclass(1)\n",
    "area(1.0)\n",
    "zonearea(1.0)\n",
    "zonez(1.0)"
   ]
  },
  {
   "cell_type": "code",
   "execution_count": 16,
   "id": "e9f3e398",
   "metadata": {},
   "outputs": [
    {
     "data": {
      "text/plain": [
       "area(1.0)\n",
       "nmbzones(1)\n",
       "sclass(1)\n",
       "zonetype(?)\n",
       "zonearea(1.0)\n",
       "psi(?)\n",
       "zonez(1.0)\n",
       "pcorr(?)\n",
       "pcalt(?)\n",
       "rfcf(?)\n",
       "sfcf(?)\n",
       "tcorr(?)\n",
       "tcalt(?)\n",
       "icmax(?)\n",
       "sfdist(?)\n",
       "smax(?)\n",
       "sred(?)\n",
       "tt(?)\n",
       "ttint(?)\n",
       "dttm(?)\n",
       "cfmax(?)\n",
       "cfvar(?)\n",
       "gmelt(?)\n",
       "gvar(?)\n",
       "cfr(?)\n",
       "whc(?)\n",
       "fc(?)\n",
       "beta(?)\n",
       "percmax(?)\n",
       "cflux(?)\n",
       "resparea(?)\n",
       "recstep(?)\n",
       "alpha(?)\n",
       "k(?)\n",
       "k4(?)\n",
       "gamma(?)"
      ]
     },
     "execution_count": 16,
     "metadata": {},
     "output_type": "execute_result"
    }
   ],
   "source": [
    "e1.model.parameters.control"
   ]
  },
  {
   "cell_type": "code",
   "execution_count": 17,
   "id": "614bbb4f",
   "metadata": {},
   "outputs": [],
   "source": [
    "psi(1.0)\n",
    "zonetype(FIELD)\n",
    "pcorr(1.1)\n",
    "pcalt(0.1)\n",
    "rfcf(1.1)\n",
    "sfcf(1.3)\n",
    "tcorr(0.6)\n",
    "tcalt(0.6)\n",
    "icmax(2.0)\n",
    "sfdist(1.0)\n",
    "smax(inf)\n",
    "sred(0.0)\n",
    "tt(0.0)\n",
    "ttint(2.0)\n",
    "dttm(1.0)\n",
    "cfmax(0.5)\n",
    "cfvar(0.1)\n",
    "gmelt(1.0)\n",
    "gvar(0.2)\n",
    "cfr(0.1)\n",
    "whc(0.4)\n",
    "fc(200.0)\n",
    "beta(2.0)\n",
    "percmax(0.5)\n",
    "cflux(0.1)\n",
    "alpha(2.0)\n",
    "k(0.001)\n",
    "k4(0.005)\n",
    "gamma(0.0)\n",
    "resparea(True)\n",
    "recstep(100)"
   ]
  },
  {
   "cell_type": "code",
   "execution_count": 19,
   "id": "e18fc831",
   "metadata": {},
   "outputs": [],
   "source": [
    "with e1.model.add_aetmodel_v1(\"evap_aet_hbv96\"):\n",
    "    temperaturethresholdice(0.0)\n",
    "    soilmoisturelimit(0.8)\n",
    "    excessreduction(0.5)\n",
    "    with model.add_petmodel_v1(\"evap_pet_hbv96\"):\n",
    "        evapotranspirationfactor(0.7)\n",
    "        airtemperaturefactor(0.1)\n",
    "        altitudefactor(-0.1)\n",
    "        precipitationfactor(0.1)"
   ]
  },
  {
   "cell_type": "code",
   "execution_count": 55,
   "id": "cf69136d",
   "metadata": {},
   "outputs": [
    {
     "name": "stdout",
     "output_type": "stream",
     "text": [
      "area(1.0)\n",
      "nmbzones(1)\n",
      "sclass(1)\n",
      "zonetype(FIELD)\n",
      "zonearea(1.0)\n",
      "psi(1.0)\n",
      "zonez(1.0)\n",
      "pcorr(1.1)\n",
      "pcalt(0.1)\n",
      "rfcf(1.1)\n",
      "sfcf(1.3)\n",
      "tcorr(0.6)\n",
      "tcalt(0.6)\n",
      "icmax(2.0)\n",
      "sfdist(1.0)\n",
      "smax(inf)\n",
      "sred(0.0)\n",
      "tt(0.0)\n",
      "ttint(2.0)\n",
      "dttm(1.0)\n",
      "cfmax(0.5)\n",
      "cfvar(0.1)\n",
      "gmelt(nan)\n",
      "gvar(nan)\n",
      "cfr(0.1)\n",
      "whc(0.4)\n",
      "fc(200.0)\n",
      "beta(2.0)\n",
      "percmax(0.5)\n",
      "cflux(0.1)\n",
      "resparea(False)\n",
      "recstep(96.0)\n",
      "alpha(2.0)\n",
      "k(0.001)\n",
      "k4(0.005)\n",
      "gamma(0.0)\n",
      "nmbhru(1)\n",
      "water(False)\n",
      "interception(True)\n",
      "soil(True)\n",
      "temperaturethresholdice(nan)\n",
      "maxsoilwater(200.0)\n",
      "soilmoisturelimit(0.8)\n",
      "excessreduction(0.5)\n",
      "nmbhru(1)\n",
      "hruarea(1.0)\n",
      "hrualtitude(100.0)\n",
      "evapotranspirationfactor(0.7)\n",
      "altitudefactor(-0.1)\n",
      "precipitationfactor(0.1)\n",
      "airtemperaturefactor(0.1)\n"
     ]
    }
   ],
   "source": [
    "for name, model in e1.model.find_submodels(include_mainmodel=True).items():\n",
    "    print(model.parameters.control)"
   ]
  },
  {
   "cell_type": "code",
   "execution_count": 20,
   "id": "c1787423",
   "metadata": {},
   "outputs": [],
   "source": [
    "e1.model.update_parameters()"
   ]
  },
  {
   "cell_type": "code",
   "execution_count": 21,
   "id": "37ff3cb5",
   "metadata": {},
   "outputs": [],
   "source": [
    "e1.model.prepare_allseries()"
   ]
  },
  {
   "cell_type": "code",
   "execution_count": 22,
   "id": "4d8c46f8",
   "metadata": {},
   "outputs": [],
   "source": [
    "e1.model.aetmodel.petmodel.prepare_allseries()"
   ]
  },
  {
   "cell_type": "code",
   "execution_count": 23,
   "id": "12cd209e",
   "metadata": {},
   "outputs": [],
   "source": [
    "n1.prepare_allseries()"
   ]
  },
  {
   "cell_type": "code",
   "execution_count": 24,
   "id": "4f88773d",
   "metadata": {},
   "outputs": [],
   "source": [
    "e1.model.sequences.inputs.p.series = (\n",
    "    0.0, 0.0, 0.0, 0.0, 0.0, 0.0, 0.0, 0.0, 0.0, 0.0, 0.0, 0.0, 0.0, 0.0, 0.0,\n",
    "    0.2, 0.0, 0.0, 1.3, 5.6, 2.9, 2.9, 10.6, 0.1, 0.7, 3.0, 2.1, 10.4, 3.5, 3.4,\n",
    "    1.2, 0.1, 0.0, 0.0, 0.4, 0.1, 3.6, 5.9, 1.1, 20.7, 37.9, 8.2, 3.6, 7.5, 18.5,\n",
    "    15.4, 6.3, 1.9, 4.9, 2.7, 0.5, 0.2, 0.5, 2.4, 0.4, 0.2, 0.0, 0.0, 0.3, 2.6,\n",
    "    0.7, 0.3, 0.3, 0.0, 0.0, 0.0, 0.0, 0.0, 0.0, 0.0, 0.0, 0.0, 0.0, 0.0, 0.0,\n",
    "    1.3, 0.0, 0.0, 0.0, 0.7, 0.4, 0.1, 0.4, 0.0, 0.0, 0.0, 0.0, 0.0, 0.0, 0.0,\n",
    "    0.0, 0.0, 0.0, 0.0, 0.0, 0.0)"
   ]
  },
  {
   "cell_type": "code",
   "execution_count": 25,
   "id": "c4f923e9",
   "metadata": {},
   "outputs": [],
   "source": [
    "e1.model.sequences.inputs.t.series = (\n",
    "    21.2, 19.4, 18.9, 18.3, 18.9, 22.5, 25.1, 28.3, 27.8, 31.4, 32.2, 35.2, 37.1,\n",
    "    31.2, 24.3, 25.4, 25.9, 23.7, 21.6, 21.2, 20.4, 19.8, 19.6, 19.2, 19.2, 19.2,\n",
    "    18.9, 18.7, 18.5, 18.3, 18.5, 18.8, 18.8, 19.0, 19.2, 19.3, 19.0, 18.8, 18.7,\n",
    "    17.8, 17.4, 17.3, 16.8, 16.5, 16.3, 16.2, 15.5, 14.6, 14.7, 14.6, 14.1, 14.3,\n",
    "    14.9, 15.7, 16.0, 16.7, 17.1, 16.2, 15.9, 16.3, 16.3, 16.4, 16.5, 18.4, 18.3,\n",
    "    18.1, 16.7, 15.2, 13.4, 12.4, 11.6, 11.0, 10.5, 11.7, 11.9, 11.2, 11.1, 11.9,\n",
    "    12.2, 11.8, 11.4, 11.6, 13.0, 17.1, 18.2, 22.4, 21.4, 21.8, 22.2, 20.1, 17.8,\n",
    "    15.2, 14.5, 12.4, 11.7, 11.9)"
   ]
  },
  {
   "cell_type": "code",
   "execution_count": 26,
   "id": "4171e873",
   "metadata": {},
   "outputs": [],
   "source": [
    "petinputs = e1.model.aetmodel.petmodel.sequences.inputs\n",
    "petinputs.normalairtemperature.series = inputs.t.series - 1.0\n",
    "petinputs.normalevapotranspiration.series = (\n",
    "    0.100707, 0.097801, 0.096981, 0.09599, 0.096981, 0.102761, 0.291908, 1.932875,\n",
    "    4.369536, 7.317556, 8.264362, 9.369867, 5.126178, 6.62503, 7.397619, 2.39151,\n",
    "    1.829834, 1.136569, 0.750986, 0.223895, 0.099425, 0.098454, 0.098128, 0.097474,\n",
    "    0.097474, 0.097474, 0.096981, 0.096652, 0.096321, 0.09599, 0.187298, 1.264612,\n",
    "    3.045538, 1.930758, 2.461001, 6.215945, 3.374783, 8.821555, 4.046025, 2.110757,\n",
    "    2.239257, 2.877848, 1.591452, 0.291604, 0.092622, 0.092451, 0.091248, 0.089683,\n",
    "    0.089858, 0.089683, 0.088805, 0.089157, 0.090207, 0.091593, 0.154861, 0.470369,\n",
    "    1.173726, 4.202296, 4.359715, 5.305753, 5.376027, 4.658915, 7.789594, 4.851567,\n",
    "    5.30692, 3.286036, 1.506216, 0.274762, 0.087565, 0.085771, 0.084317, 0.083215,\n",
    "    0.082289, 0.0845, 0.084864, 0.083584, 0.0834, 0.084864, 0.310229, 1.391958,\n",
    "    3.195876, 5.191651, 7.155036, 8.391432, 8.391286, 10.715238, 9.383394, 7.861915,\n",
    "    6.298329, 2.948416, 1.309232, 0.32955, 0.089508, 0.085771, 0.0845, 0.084864)"
   ]
  },
  {
   "cell_type": "code",
   "execution_count": 36,
   "id": "ac6fdb00",
   "metadata": {},
   "outputs": [
    {
     "data": {
      "image/png": "[encoded data removed]",
      "text/plain": [
       "<Figure size 640x480 with 1 Axes>"
      ]
     },
     "metadata": {},
     "output_type": "display_data"
    }
   ],
   "source": [
    "figure = e1.plot_inputseries()"
   ]
  },
  {
   "cell_type": "code",
   "execution_count": 27,
   "id": "3a6d4a34",
   "metadata": {},
   "outputs": [],
   "source": [
    "e1.model.sequences.states.ic(0.0)\n",
    "e1.model.sequences.states.sp(0.0)\n",
    "e1.model.sequences.states.wc(0.0)\n",
    "e1.model.sequences.states.sm(100.0)\n",
    "e1.model.sequences.states.uz(0.0)\n",
    "e1.model.sequences.states.lz(10.0)"
   ]
  },
  {
   "cell_type": "code",
   "execution_count": 28,
   "id": "220f57c2",
   "metadata": {
    "scrolled": true
   },
   "outputs": [
    {
     "data": {
      "text/plain": [
       "ic(0.0)\n",
       "sp(0.0)\n",
       "wc(0.0)\n",
       "sm(100.0)\n",
       "uz(0.0)\n",
       "lz(10.0)"
      ]
     },
     "execution_count": 28,
     "metadata": {},
     "output_type": "execute_result"
    }
   ],
   "source": [
    "e1.model.sequences.states"
   ]
  },
  {
   "cell_type": "code",
   "execution_count": 29,
   "id": "9ed5150f",
   "metadata": {},
   "outputs": [
    {
     "name": "stdout",
     "output_type": "stream",
     "text": [
      "method HydPy.simulate started at 13:14:40\n",
      "    |---------------------|\n",
      "    ***********************\n",
      "    seconds elapsed: 0.008028700016438961\n"
     ]
    }
   ],
   "source": [
    "hp.simulate()"
   ]
  },
  {
   "cell_type": "code",
   "execution_count": 32,
   "id": "3e93fedc",
   "metadata": {},
   "outputs": [
    {
     "data": {
      "text/plain": [
       "InfoArray([5.78703704e-04, 5.78583140e-04, 5.78462602e-04, 5.78342089e-04,\n",
       "           5.78221601e-04, 5.78101138e-04, 5.77980701e-04, 5.77860288e-04,\n",
       "           5.77739901e-04, 5.77619538e-04, 5.77499201e-04, 5.77378888e-04,\n",
       "           5.77258601e-04, 5.77138339e-04, 5.77018102e-04, 5.76897890e-04,\n",
       "           5.76777703e-04, 5.76657540e-04, 5.76537404e-04, 1.32163732e-03,\n",
       "           4.90632269e-03, 1.13248048e-02, 4.21971636e-02, 6.62682934e-02,\n",
       "           5.94088174e-02, 6.65138409e-02, 7.94876776e-02, 1.34650543e-01,\n",
       "           1.96859933e-01, 2.10867065e-01, 2.04433050e-01, 1.75214176e-01,\n",
       "           1.52538463e-01, 1.31987789e-01, 1.11381801e-01, 1.07248677e-01,\n",
       "           1.02931492e-01, 1.40045688e-01, 1.64716864e-01, 3.37564799e-01,\n",
       "           1.11561229e+00, 1.67822263e+00, 1.39970545e+00, 1.28997062e+00,\n",
       "           1.84797718e+00, 2.54911587e+00, 2.39934779e+00, 1.78314397e+00,\n",
       "           1.48112946e+00, 1.29449989e+00, 1.02510560e+00, 7.92467277e-01,\n",
       "           6.42663087e-01, 6.00758344e-01, 5.46257293e-01, 4.65379515e-01,\n",
       "           4.00917312e-01, 3.74516022e-01, 3.34085539e-01, 3.07943613e-01,\n",
       "           2.96134024e-01, 2.73990146e-01, 2.58571493e-01, 2.57592119e-01,\n",
       "           2.59006895e-01, 2.45986330e-01, 2.23200554e-01, 1.97300508e-01,\n",
       "           1.75203996e-01, 1.56937088e-01, 1.41628432e-01, 1.28646786e-01,\n",
       "           1.17524085e-01, 1.07915720e-01, 9.95424163e-02, 9.19810730e-02,\n",
       "           8.54133050e-02, 7.95839653e-02, 7.46091297e-02, 7.03172799e-02,\n",
       "           6.91920095e-02, 7.20419415e-02, 7.11007587e-02, 8.44137553e-02,\n",
       "           9.87537998e-02, 1.21447615e-01, 1.39802947e-01, 1.50232420e-01,\n",
       "           1.51526749e-01, 1.37797072e-01, 1.20524742e-01, 1.03879453e-01,\n",
       "           9.01800845e-02, 7.92417773e-02, 7.03448480e-02, 6.29937367e-02])"
      ]
     },
     "execution_count": 32,
     "metadata": {},
     "output_type": "execute_result"
    }
   ],
   "source": [
    "n1.sequences.sim.simseries"
   ]
  },
  {
   "cell_type": "code",
   "execution_count": 33,
   "id": "17551d07",
   "metadata": {},
   "outputs": [
    {
     "data": {
      "text/plain": [
       "InfoArray([5.78703704e-04, 5.78583140e-04, 5.78462602e-04, 5.78342089e-04,\n",
       "           5.78221601e-04, 5.78101138e-04, 5.77980701e-04, 5.77860288e-04,\n",
       "           5.77739901e-04, 5.77619538e-04, 5.77499201e-04, 5.77378888e-04,\n",
       "           5.77258601e-04, 5.77138339e-04, 5.77018102e-04, 5.76897890e-04,\n",
       "           5.76777703e-04, 5.76657540e-04, 5.76537404e-04, 1.32163732e-03,\n",
       "           4.90632269e-03, 1.13248048e-02, 4.21971636e-02, 6.62682934e-02,\n",
       "           5.94088174e-02, 6.65138409e-02, 7.94876776e-02, 1.34650543e-01,\n",
       "           1.96859933e-01, 2.10867065e-01, 2.04433050e-01, 1.75214176e-01,\n",
       "           1.52538463e-01, 1.31987789e-01, 1.11381801e-01, 1.07248677e-01,\n",
       "           1.02931492e-01, 1.40045688e-01, 1.64716864e-01, 3.37564799e-01,\n",
       "           1.11561229e+00, 1.67822263e+00, 1.39970545e+00, 1.28997062e+00,\n",
       "           1.84797718e+00, 2.54911587e+00, 2.39934779e+00, 1.78314397e+00,\n",
       "           1.48112946e+00, 1.29449989e+00, 1.02510560e+00, 7.92467277e-01,\n",
       "           6.42663087e-01, 6.00758344e-01, 5.46257293e-01, 4.65379515e-01,\n",
       "           4.00917312e-01, 3.74516022e-01, 3.34085539e-01, 3.07943613e-01,\n",
       "           2.96134024e-01, 2.73990146e-01, 2.58571493e-01, 2.57592119e-01,\n",
       "           2.59006895e-01, 2.45986330e-01, 2.23200554e-01, 1.97300508e-01,\n",
       "           1.75203996e-01, 1.56937088e-01, 1.41628432e-01, 1.28646786e-01,\n",
       "           1.17524085e-01, 1.07915720e-01, 9.95424163e-02, 9.19810730e-02,\n",
       "           8.54133050e-02, 7.95839653e-02, 7.46091297e-02, 7.03172799e-02,\n",
       "           6.91920095e-02, 7.20419415e-02, 7.11007587e-02, 8.44137553e-02,\n",
       "           9.87537998e-02, 1.21447615e-01, 1.39802947e-01, 1.50232420e-01,\n",
       "           1.51526749e-01, 1.37797072e-01, 1.20524742e-01, 1.03879453e-01,\n",
       "           9.01800845e-02, 7.92417773e-02, 7.03448480e-02, 6.29937367e-02])"
      ]
     },
     "execution_count": 33,
     "metadata": {},
     "output_type": "execute_result"
    }
   ],
   "source": [
    "e1.model.sequences.fluxes.qt.series"
   ]
  },
  {
   "cell_type": "code",
   "execution_count": 35,
   "id": "766f5643",
   "metadata": {},
   "outputs": [
    {
     "data": {
      "image/png": "[encoded data removed]",
      "text/plain": [
       "<Figure size 640x480 with 1 Axes>"
      ]
     },
     "metadata": {},
     "output_type": "display_data"
    }
   ],
   "source": [
    "figure = n1.plot_allseries()"
   ]
  },
  {
   "cell_type": "code",
   "execution_count": null,
   "id": "b2b07367",
   "metadata": {},
   "outputs": [],
   "source": []
  }
 ],
 "metadata": {
  "kernelspec": {
   "display_name": "Python 3 (ipykernel)",
   "language": "python",
   "name": "python3"
  },
  "language_info": {
   "codemirror_mode": {
    "name": "ipython",
    "version": 3
   },
   "file_extension": ".py",
   "mimetype": "text/x-python",
   "name": "python",
   "nbconvert_exporter": "python",
   "pygments_lexer": "ipython3",
   "version": "3.11.8"
  }
 },
 "nbformat": 4,
 "nbformat_minor": 5
}
