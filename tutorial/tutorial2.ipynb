{
 "cells": [
  {
   "cell_type": "markdown",
   "id": "a8f74e5e",
   "metadata": {},
   "source": [
    "# Tutorial 2: Example Project Lahn"
   ]
  },
  {
   "cell_type": "code",
   "execution_count": null,
   "id": "2242b840",
   "metadata": {},
   "outputs": [],
   "source": [
    "import os\n",
    "import hydpy"
   ]
  },
  {
   "cell_type": "markdown",
   "id": "d00422e1",
   "metadata": {},
   "source": [
    "In this mybinder repository the example project Lahn is included, which you can also download from https://hydpy-dev.github.io/.\n",
    "If you reproduce these steps at your local machine, you should download the example project and unzip it to your desired working directory. The Folder 'HydPy-H-Lahn' should be inside your working directory.\n",
    "\n",
    "The entry point to each project is the central HydPy class. Initialise it by passing the project’s name to it (the name of the project folder:"
   ]
  },
  {
   "cell_type": "code",
   "execution_count": 3,
   "id": "77c8eeed",
   "metadata": {},
   "outputs": [],
   "source": [
    "hp = hydpy.HydPy(\"HydPy-H-Lahn\")"
   ]
  },
  {
   "cell_type": "markdown",
   "id": "55c704ae",
   "metadata": {},
   "source": [
    "Equally prominent throughout this documentation is the pub module, which allows for the specification of general information. Here, we use it to define the first date, the last date, and the time step size of the considered simulation period in the simplest possible manner:"
   ]
  },
  {
   "cell_type": "code",
   "execution_count": null,
   "id": "f707b3f6",
   "metadata": {},
   "outputs": [],
   "source": [
    "hydpy.pub.timegrids = \"1996-01-01\", \"1996-01-05\", \"1d\"\n",
    "\n"
   ]
  },
  {
   "cell_type": "markdown",
   "id": "a989b971",
   "metadata": {},
   "source": [
    "Now, there are numerous ways to proceed. We choose the most straightforward one (without deviating from a single default) and call method prepare_everything() of class HydPy, which “prepares everything” so far as to leave the HydPy instance in a simulation-ready state:"
   ]
  },
  {
   "cell_type": "code",
   "execution_count": null,
   "id": "ba726348",
   "metadata": {},
   "outputs": [],
   "source": [
    "hp.prepare_everything()"
   ]
  },
  {
   "cell_type": "markdown",
   "id": "fea2630e",
   "metadata": {},
   "source": [
    "The catchment outlet of the HydPy-H-Lahn example project is named lahn_kalk. The following example demonstrates how to query the discharge values simulated for this outlet:"
   ]
  },
  {
   "cell_type": "code",
   "execution_count": 4,
   "id": "5d7e6847",
   "metadata": {},
   "outputs": [
    {
     "ename": "AttributeNotReady",
     "evalue": "The actual HydPy instance does not handle any nodes at the moment.",
     "output_type": "error",
     "traceback": [
      "\u001b[1;31m---------------------------------------------------------------------------\u001b[0m",
      "\u001b[1;31mAttributeNotReady\u001b[0m                         Traceback (most recent call last)",
      "\u001b[1;32m~\\AppData\\Local\\Temp\\ipykernel_28944\\4203004224.py\u001b[0m in \u001b[0;36m<cell line: 0>\u001b[1;34m()\u001b[0m\n\u001b[0;32m      1\u001b[0m \u001b[1;32mfrom\u001b[0m \u001b[0mhydpy\u001b[0m \u001b[1;32mimport\u001b[0m \u001b[0mprint_vector\u001b[0m\u001b[1;33m\u001b[0m\u001b[1;33m\u001b[0m\u001b[0m\n\u001b[1;32m----> 2\u001b[1;33m \u001b[0mprint_vector\u001b[0m\u001b[1;33m(\u001b[0m\u001b[0mhp\u001b[0m\u001b[1;33m.\u001b[0m\u001b[0mnodes\u001b[0m\u001b[1;33m.\u001b[0m\u001b[0mlahn_kalk\u001b[0m\u001b[1;33m.\u001b[0m\u001b[0msequences\u001b[0m\u001b[1;33m.\u001b[0m\u001b[0msim\u001b[0m\u001b[1;33m.\u001b[0m\u001b[0mseries\u001b[0m\u001b[1;33m)\u001b[0m\u001b[1;33m\u001b[0m\u001b[1;33m\u001b[0m\u001b[0m\n\u001b[0m\u001b[0;32m      3\u001b[0m \u001b[0mhp\u001b[0m\u001b[1;33m.\u001b[0m\u001b[0msimulate\u001b[0m\u001b[1;33m(\u001b[0m\u001b[1;33m)\u001b[0m\u001b[1;33m\u001b[0m\u001b[1;33m\u001b[0m\u001b[0m\n\u001b[0;32m      4\u001b[0m \u001b[0mprint_vector\u001b[0m\u001b[1;33m(\u001b[0m\u001b[0mhp\u001b[0m\u001b[1;33m.\u001b[0m\u001b[0mnodes\u001b[0m\u001b[1;33m.\u001b[0m\u001b[0mlahn_kalk\u001b[0m\u001b[1;33m.\u001b[0m\u001b[0msequences\u001b[0m\u001b[1;33m.\u001b[0m\u001b[0msim\u001b[0m\u001b[1;33m.\u001b[0m\u001b[0mseries\u001b[0m\u001b[1;33m)\u001b[0m\u001b[1;33m\u001b[0m\u001b[1;33m\u001b[0m\u001b[0m\n",
      "\u001b[1;32mC:\\venvs\\arcpy_3_3\\Lib\\site-packages\\hydpy\\core\\propertytools.py\u001b[0m in \u001b[0;36m__get__\u001b[1;34m(self, obj, objtype)\u001b[0m\n\u001b[0;32m    124\u001b[0m                 \u001b[1;34mf\"{objecttools.devicephrase(obj)} is not gettable.\"\u001b[0m\u001b[1;33m\u001b[0m\u001b[1;33m\u001b[0m\u001b[0m\n\u001b[0;32m    125\u001b[0m             )\n\u001b[1;32m--> 126\u001b[1;33m         \u001b[1;32mreturn\u001b[0m \u001b[0mself\u001b[0m\u001b[1;33m.\u001b[0m\u001b[0mcall_fget\u001b[0m\u001b[1;33m(\u001b[0m\u001b[0mobj\u001b[0m\u001b[1;33m)\u001b[0m\u001b[1;33m\u001b[0m\u001b[1;33m\u001b[0m\u001b[0m\n\u001b[0m\u001b[0;32m    127\u001b[0m \u001b[1;33m\u001b[0m\u001b[0m\n\u001b[0;32m    128\u001b[0m     \u001b[1;32mdef\u001b[0m \u001b[0m__set__\u001b[0m\u001b[1;33m(\u001b[0m\u001b[0mself\u001b[0m\u001b[1;33m,\u001b[0m \u001b[0mobj\u001b[0m\u001b[1;33m:\u001b[0m \u001b[0mAny\u001b[0m\u001b[1;33m,\u001b[0m \u001b[0mvalue\u001b[0m\u001b[1;33m:\u001b[0m \u001b[0mT_contra\u001b[0m\u001b[1;33m)\u001b[0m \u001b[1;33m->\u001b[0m \u001b[1;32mNone\u001b[0m\u001b[1;33m:\u001b[0m\u001b[1;33m\u001b[0m\u001b[1;33m\u001b[0m\u001b[0m\n",
      "\u001b[1;32mC:\\venvs\\arcpy_3_3\\Lib\\site-packages\\hydpy\\core\\propertytools.py\u001b[0m in \u001b[0;36mcall_fget\u001b[1;34m(self, obj)\u001b[0m\n\u001b[0;32m    226\u001b[0m     \u001b[1;32mdef\u001b[0m \u001b[0mcall_fget\u001b[0m\u001b[1;33m(\u001b[0m\u001b[0mself\u001b[0m\u001b[1;33m,\u001b[0m \u001b[0mobj\u001b[0m\u001b[1;33m:\u001b[0m \u001b[0mAny\u001b[0m\u001b[1;33m)\u001b[0m \u001b[1;33m->\u001b[0m \u001b[0mT_co\u001b[0m\u001b[1;33m:\u001b[0m\u001b[1;33m\u001b[0m\u001b[1;33m\u001b[0m\u001b[0m\n\u001b[0;32m    227\u001b[0m         \u001b[1;34m\"\"\"Call `fget` without additional functionalities.\"\"\"\u001b[0m\u001b[1;33m\u001b[0m\u001b[1;33m\u001b[0m\u001b[0m\n\u001b[1;32m--> 228\u001b[1;33m         \u001b[1;32mreturn\u001b[0m \u001b[0mself\u001b[0m\u001b[1;33m.\u001b[0m\u001b[0mfget\u001b[0m\u001b[1;33m(\u001b[0m\u001b[0mobj\u001b[0m\u001b[1;33m)\u001b[0m\u001b[1;33m\u001b[0m\u001b[1;33m\u001b[0m\u001b[0m\n\u001b[0m\u001b[0;32m    229\u001b[0m \u001b[1;33m\u001b[0m\u001b[0m\n\u001b[0;32m    230\u001b[0m     \u001b[1;32mdef\u001b[0m \u001b[0mcall_fset\u001b[0m\u001b[1;33m(\u001b[0m\u001b[0mself\u001b[0m\u001b[1;33m,\u001b[0m \u001b[0mobj\u001b[0m\u001b[1;33m:\u001b[0m \u001b[0mAny\u001b[0m\u001b[1;33m,\u001b[0m \u001b[0mvalue\u001b[0m\u001b[1;33m:\u001b[0m \u001b[0mT_contra\u001b[0m\u001b[1;33m)\u001b[0m \u001b[1;33m->\u001b[0m \u001b[1;32mNone\u001b[0m\u001b[1;33m:\u001b[0m\u001b[1;33m\u001b[0m\u001b[1;33m\u001b[0m\u001b[0m\n",
      "\u001b[1;32mC:\\venvs\\arcpy_3_3\\Lib\\site-packages\\hydpy\\core\\hydpytools.py\u001b[0m in \u001b[0;36m_get_nodes\u001b[1;34m(self)\u001b[0m\n\u001b[0;32m    840\u001b[0m         \u001b[0mnodes\u001b[0m \u001b[1;33m=\u001b[0m \u001b[0mself\u001b[0m\u001b[1;33m.\u001b[0m\u001b[0m_nodes\u001b[0m\u001b[1;33m\u001b[0m\u001b[1;33m\u001b[0m\u001b[0m\n\u001b[0;32m    841\u001b[0m         \u001b[1;32mif\u001b[0m \u001b[0mnodes\u001b[0m \u001b[1;32mis\u001b[0m \u001b[1;32mNone\u001b[0m\u001b[1;33m:\u001b[0m\u001b[1;33m\u001b[0m\u001b[1;33m\u001b[0m\u001b[0m\n\u001b[1;32m--> 842\u001b[1;33m             raise exceptiontools.AttributeNotReady(\n\u001b[0m\u001b[0;32m    843\u001b[0m                 \u001b[1;34m\"The actual HydPy instance does not handle any nodes at the moment.\"\u001b[0m\u001b[1;33m\u001b[0m\u001b[1;33m\u001b[0m\u001b[0m\n\u001b[0;32m    844\u001b[0m             )\n",
      "\u001b[1;31mAttributeNotReady\u001b[0m: The actual HydPy instance does not handle any nodes at the moment."
     ]
    }
   ],
   "source": [
    "from hydpy import print_vector\n",
    "print_vector(hp.nodes.lahn_kalk.sequences.sim.series)\n",
    "hp.simulate()\n",
    "print_vector(hp.nodes.lahn_kalk.sequences.sim.series)"
   ]
  },
  {
   "cell_type": "code",
   "execution_count": null,
   "id": "97e2ece9",
   "metadata": {},
   "outputs": [],
   "source": []
  }
 ],
 "metadata": {
  "kernelspec": {
   "display_name": "Python 3 (ipykernel)",
   "language": "python",
   "name": "python3"
  },
  "language_info": {
   "codemirror_mode": {
    "name": "ipython",
    "version": 3
   },
   "file_extension": ".py",
   "mimetype": "text/x-python",
   "name": "python",
   "nbconvert_exporter": "python",
   "pygments_lexer": "ipython3",
   "version": "3.11.8"
  }
 },
 "nbformat": 4,
 "nbformat_minor": 5
}
